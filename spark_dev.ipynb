{
 "cells": [
  {
   "cell_type": "code",
   "execution_count": 2,
   "id": "d24f1a64fce5d40d",
   "metadata": {
    "collapsed": false
   },
   "outputs": [],
   "source": [
    "from pyspark.sql import SparkSession\n",
    "from pyspark.sql.functions import avg"
   ]
  },
  {
   "cell_type": "code",
   "execution_count": 3,
   "id": "initial_id",
   "metadata": {
    "collapsed": true,
    "is_executing": true
   },
   "outputs": [
    {
     "name": "stderr",
     "output_type": "stream",
     "text": [
      "Setting default log level to \"WARN\".\n",
      "To adjust logging level use sc.setLogLevel(newLevel). For SparkR, use setLogLevel(newLevel).\n",
      "24/11/10 18:47:02 WARN NativeCodeLoader: Unable to load native-hadoop library for your platform... using builtin-java classes where applicable\n"
     ]
    }
   ],
   "source": [
    "# Initialize a SparkSession\n",
    "spark = SparkSession.builder \\\n",
    "    .appName(\"hello\") \\\n",
    "    .getOrCreate()\n"
   ]
  },
  {
   "cell_type": "code",
   "execution_count": 4,
   "id": "d379f464e53facf5",
   "metadata": {
    "collapsed": false
   },
   "outputs": [],
   "source": [
    "# Load data into a DataFrame\n",
    "data = [\n",
    "    {\"name\": \"Alice\", \"age\": 25, \"city\": \"New York\"},\n",
    "    {\"name\": \"Bob\", \"age\": 17, \"city\": \"San Francisco\"},\n",
    "    {\"name\": \"Charlie\", \"age\": 35, \"city\": \"Los Angeles\"},\n",
    "    {\"name\": \"David\", \"age\": 15, \"city\": \"Chicago\"},\n",
    "    {\"name\": \"Eve\", \"age\": 29, \"city\": \"Miami\"}\n",
    "]\n"
   ]
  },
  {
   "cell_type": "code",
   "execution_count": 5,
   "id": "b99c2687",
   "metadata": {},
   "outputs": [
    {
     "name": "stdout",
     "output_type": "stream",
     "text": [
      "Original Data:\n",
      "+---+-------------+-------+\n",
      "|age|         city|   name|\n",
      "+---+-------------+-------+\n",
      "| 25|     New York|  Alice|\n",
      "| 17|San Francisco|    Bob|\n",
      "| 35|  Los Angeles|Charlie|\n",
      "| 15|      Chicago|  David|\n",
      "| 29|        Miami|    Eve|\n",
      "+---+-------------+-------+\n",
      "\n"
     ]
    }
   ],
   "source": [
    "df = spark.createDataFrame(data)\n",
    "\n",
    "# Show the original data\n",
    "print(\"Original Data:\")\n",
    "df.show()"
   ]
  },
  {
   "cell_type": "code",
   "execution_count": 6,
   "id": "912f32df",
   "metadata": {},
   "outputs": [
    {
     "name": "stdout",
     "output_type": "stream",
     "text": [
      "Adults Data:\n",
      "+---+-----------+-------+\n",
      "|age|       city|   name|\n",
      "+---+-----------+-------+\n",
      "| 25|   New York|  Alice|\n",
      "| 35|Los Angeles|Charlie|\n",
      "| 29|      Miami|    Eve|\n",
      "+---+-----------+-------+\n",
      "\n"
     ]
    }
   ],
   "source": [
    "# Filter out rows where age is less than 18\n",
    "adults_df = df.filter(df.age >= 18)\n",
    "\n",
    "# Show filtered data\n",
    "print(\"Adults Data:\")\n",
    "adults_df.show()"
   ]
  },
  {
   "cell_type": "code",
   "execution_count": 7,
   "id": "da32954b",
   "metadata": {},
   "outputs": [
    {
     "name": "stdout",
     "output_type": "stream",
     "text": [
      "Average Age of Adults: 29.666666666666668\n"
     ]
    }
   ],
   "source": [
    "# Calculate the average age of adults\n",
    "average_age = adults_df.agg(avg(\"age\")).first()[0]\n",
    "print(f\"Average Age of Adults: {average_age}\")"
   ]
  },
  {
   "cell_type": "code",
   "execution_count": 8,
   "id": "552c14bd",
   "metadata": {},
   "outputs": [],
   "source": [
    "# Additional transformation: select specific columns and sort by age\n",
    "result_df = adults_df.select(\"name\", \"age\", \"city\").orderBy(\"age\", ascending=False)\n"
   ]
  },
  {
   "cell_type": "code",
   "execution_count": 9,
   "id": "7a1298f8",
   "metadata": {},
   "outputs": [
    {
     "name": "stdout",
     "output_type": "stream",
     "text": [
      "Transformed Data:\n",
      "+-------+---+-----------+\n",
      "|   name|age|       city|\n",
      "+-------+---+-----------+\n",
      "|Charlie| 35|Los Angeles|\n",
      "|    Eve| 29|      Miami|\n",
      "|  Alice| 25|   New York|\n",
      "+-------+---+-----------+\n",
      "\n"
     ]
    }
   ],
   "source": [
    "# Show the transformed data\n",
    "print(\"Transformed Data:\")\n",
    "result_df.show()\n"
   ]
  },
  {
   "cell_type": "code",
   "execution_count": 10,
   "id": "fc5dd6c2",
   "metadata": {},
   "outputs": [],
   "source": [
    "# Stop the SparkSession\n",
    "spark.stop()"
   ]
  },
  {
   "cell_type": "code",
   "execution_count": null,
   "id": "4bd88496",
   "metadata": {},
   "outputs": [],
   "source": []
  }
 ],
 "metadata": {
  "kernelspec": {
   "display_name": "venv",
   "language": "python",
   "name": "python3"
  },
  "language_info": {
   "codemirror_mode": {
    "name": "ipython",
    "version": 3
   },
   "file_extension": ".py",
   "mimetype": "text/x-python",
   "name": "python",
   "nbconvert_exporter": "python",
   "pygments_lexer": "ipython3",
   "version": "3.10.12"
  }
 },
 "nbformat": 4,
 "nbformat_minor": 5
}
